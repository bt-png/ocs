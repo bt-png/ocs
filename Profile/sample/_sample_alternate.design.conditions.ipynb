{
 "cells": [
  {
   "cell_type": "markdown",
   "id": "e6c30ee4",
   "metadata": {},
   "source": [
    "![STV](stv.png)\n",
    "\n",
    "# OCS - PROFILE TEMPLATE\n",
    "## Catenary System, Fexible Hangers\n",
    "\n",
    "Calculate the wire profile utilizing the sum of moments methods.\n",
    "Compare the wire positions under alternate design conditions.\n",
    "*Input system data and alternate conditions, output position and loading graphs*"
   ]
  },
  {
   "cell_type": "markdown",
   "id": "0ae11799",
   "metadata": {},
   "source": [
    "*The \"_system\" Python code module handles loading all other required references*"
   ]
  },
  {
   "cell_type": "code",
   "execution_count": 1,
   "id": "fed6d009",
   "metadata": {},
   "outputs": [
    {
     "ename": "SyntaxError",
     "evalue": "positional argument follows keyword argument (_system.py, line 292)",
     "output_type": "error",
     "traceback": [
      "Traceback \u001b[1;36m(most recent call last)\u001b[0m:\n",
      "\u001b[0m  File \u001b[0;32m~\\AppData\\Local\\anaconda3\\envs\\CAD\\Lib\\site-packages\\IPython\\core\\interactiveshell.py:3526\u001b[0m in \u001b[0;35mrun_code\u001b[0m\n    exec(code_obj, self.user_global_ns, self.user_ns)\u001b[0m\n",
      "\u001b[1;36m  Cell \u001b[1;32mIn[1], line 1\u001b[1;36m\n\u001b[1;33m    import _system as OCS\u001b[1;36m\n",
      "\u001b[1;36m  File \u001b[1;32m~\\OneDrive - STV Incorporated\\Tools-Coding\\Python\\Profile\\_system.py:292\u001b[1;36m\u001b[0m\n\u001b[1;33m    kind='scatter', axlabel(ylabel='HA Length (in)'))\u001b[0m\n\u001b[1;37m                                                    ^\u001b[0m\n\u001b[1;31mSyntaxError\u001b[0m\u001b[1;31m:\u001b[0m positional argument follows keyword argument\n"
     ]
    }
   ],
   "source": [
    "import _system as OCS"
   ]
  },
  {
   "cell_type": "markdown",
   "id": "158b2036",
   "metadata": {},
   "source": [
    "### ------INPUT DATA-------"
   ]
  },
  {
   "cell_type": "markdown",
   "id": "cacbde3f",
   "metadata": {},
   "source": [
    "#### LAYOUT DESIGN\n",
    "*Data loaded from Sound Transit L800, wire run N51*"
   ]
  },
  {
   "cell_type": "code",
   "execution_count": null,
   "id": "65c26b2f",
   "metadata": {},
   "outputs": [],
   "source": [
    "wirerunfilepath = 'InputData_none.csv'\n",
    "wr = OCS.wire_run(wirerunfilepath)"
   ]
  },
  {
   "cell_type": "markdown",
   "id": "31da23d5",
   "metadata": {},
   "source": [
    "#### CONDUCTOR PARTICULARS AND LOADING CONDITIONS\n",
    "*Input format is (MW(Weight, Tension), CW(Weight, Tension), HA Weight)*"
   ]
  },
  {
   "cell_type": "markdown",
   "id": "61dbbb55",
   "metadata": {},
   "source": [
    "*Nominal (installation) conditions. These set the hanger lengths*"
   ]
  },
  {
   "cell_type": "code",
   "execution_count": null,
   "id": "b79dd88e",
   "metadata": {},
   "outputs": [],
   "source": [
    "cN = OCS.conductor_particulars((1.544, 5000), (1.063, 3300), 0.2)"
   ]
  },
  {
   "cell_type": "markdown",
   "id": "c563da69",
   "metadata": {},
   "source": [
    "*LC1 Static, Maximum (worst case for wire tensions and overbuilds) - cold, no ice*"
   ]
  },
  {
   "cell_type": "code",
   "execution_count": null,
   "id": "936837e1",
   "metadata": {},
   "outputs": [],
   "source": [
    "c1 = OCS.conductor_particulars((1.544, 5129), (1.063, 3385), 0.2)"
   ]
  },
  {
   "cell_type": "markdown",
   "id": "aa83b06a",
   "metadata": {},
   "source": [
    "*LC2 Static, Minimum (worst case for grade clearances) - hot, no wind"
   ]
  },
  {
   "cell_type": "code",
   "execution_count": null,
   "id": "2321b126",
   "metadata": {},
   "outputs": [],
   "source": [
    "c2 = OCS.conductor_particulars((1.544, 4187), (1.063, 2482), 0.2)"
   ]
  },
  {
   "cell_type": "markdown",
   "id": "b55066f6",
   "metadata": {},
   "source": [
    "### ------SOLVE-------\n",
    "*Solve flexible hanger catenary geometry utilizing the \"_systems\" module. Need to call \"_solve\" discretely*"
   ]
  },
  {
   "cell_type": "code",
   "execution_count": null,
   "id": "ede91514",
   "metadata": {},
   "outputs": [],
   "source": [
    "Nominal = OCS.CatenaryFlexible(cN, wr)\n",
    "Nominal._solve()\n",
    "LC1 = OCS.AltCondition(c1, Nominal)\n",
    "LC2 = OCS.AltCondition(c2, Nominal)"
   ]
  },
  {
   "cell_type": "markdown",
   "id": "3c4b8423",
   "metadata": {},
   "source": [
    "### ------OUTPUT-------"
   ]
  },
  {
   "cell_type": "markdown",
   "id": "61621947",
   "metadata": {},
   "source": [
    "*Generate sag plots of the wire elevations*"
   ]
  },
  {
   "cell_type": "code",
   "execution_count": null,
   "id": "246336b3",
   "metadata": {},
   "outputs": [],
   "source": [
    "pl = OCS.combine_plots(\n",
    "    ('LC1', 'LC2', 'Nominal'),\n",
    "    (LC1.dataframe(), LC2.dataframe(), Nominal.dataframe()),\n",
    "    #row='type'\n",
    ")"
   ]
  },
  {
   "cell_type": "markdown",
   "id": "e01ec490",
   "metadata": {},
   "source": [
    "*Generate plots of the Contact Wire elevation difference at the alternate load cases*"
   ]
  },
  {
   "cell_type": "code",
   "execution_count": null,
   "id": "6935bf2d",
   "metadata": {},
   "outputs": [],
   "source": [
    "pl = OCS.combine_plots(\n",
    "    ('LC1', 'LC2'),\n",
    "    (LC1.dataframe_cwdiff(), LC2.dataframe_cwdiff()),\n",
    "    yscale=12\n",
    "    #row='type'\n",
    ")\n",
    "pl.set_axis_labels(y_var='Rise (in)')"
   ]
  },
  {
   "cell_type": "markdown",
   "id": "3b5678a9",
   "metadata": {},
   "source": [
    "*Generate plots of the steady arm vertical resistive loading due to changes in the installed heel setting and radial load*"
   ]
  },
  {
   "cell_type": "code",
   "execution_count": null,
   "id": "a79c3361",
   "metadata": {},
   "outputs": [],
   "source": [
    "pl_load = OCS.combine_plots_load(\n",
    "    ('LC1', 'LC2'),\n",
    "    (LC1.dataframe_sr(), LC2.dataframe_sr()),\n",
    "    #row='type'\n",
    ")"
   ]
  }
 ],
 "metadata": {
  "kernelspec": {
   "display_name": "Python 3 (ipykernel)",
   "language": "python",
   "name": "python3"
  },
  "language_info": {
   "codemirror_mode": {
    "name": "ipython",
    "version": 3
   },
   "file_extension": ".py",
   "mimetype": "text/x-python",
   "name": "python",
   "nbconvert_exporter": "python",
   "pygments_lexer": "ipython3",
   "version": "3.11.5"
  }
 },
 "nbformat": 4,
 "nbformat_minor": 5
}
